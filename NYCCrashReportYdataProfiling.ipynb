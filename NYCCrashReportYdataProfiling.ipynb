{
 "cells": [
  {
   "cell_type": "code",
   "execution_count": 1,
   "metadata": {},
   "outputs": [
    {
     "name": "stdout",
     "output_type": "stream",
     "text": [
      "Requirement already satisfied: ydata-profiling in c:\\users\\chinm\\appdata\\local\\programs\\python\\python39\\lib\\site-packages (4.7.0)Note: you may need to restart the kernel to use updated packages.\n",
      "\n",
      "Requirement already satisfied: phik<0.13,>=0.11.1 in c:\\users\\chinm\\appdata\\local\\programs\\python\\python39\\lib\\site-packages (from ydata-profiling) (0.12.4)\n",
      "Requirement already satisfied: statsmodels<1,>=0.13.2 in c:\\users\\chinm\\appdata\\local\\programs\\python\\python39\\lib\\site-packages (from ydata-profiling) (0.14.1)\n",
      "Requirement already satisfied: jinja2<3.2,>=2.11.1 in c:\\users\\chinm\\appdata\\local\\programs\\python\\python39\\lib\\site-packages (from ydata-profiling) (3.1.2)\n",
      "Requirement already satisfied: scipy<1.12,>=1.4.1 in c:\\users\\chinm\\appdata\\local\\programs\\python\\python39\\lib\\site-packages (from ydata-profiling) (1.7.3)\n",
      "Requirement already satisfied: wordcloud>=1.9.1 in c:\\users\\chinm\\appdata\\local\\programs\\python\\python39\\lib\\site-packages (from ydata-profiling) (1.9.3)\n",
      "Requirement already satisfied: requests<3,>=2.24.0 in c:\\users\\chinm\\appdata\\local\\programs\\python\\python39\\lib\\site-packages (from ydata-profiling) (2.31.0)\n",
      "Requirement already satisfied: pydantic>=2 in c:\\users\\chinm\\appdata\\local\\programs\\python\\python39\\lib\\site-packages (from ydata-profiling) (2.6.0)\n",
      "Requirement already satisfied: numba<1,>=0.56.0 in c:\\users\\chinm\\appdata\\local\\programs\\python\\python39\\lib\\site-packages (from ydata-profiling) (0.58.1)\n",
      "Requirement already satisfied: dacite>=1.8 in c:\\users\\chinm\\appdata\\local\\programs\\python\\python39\\lib\\site-packages (from ydata-profiling) (1.8.1)\n",
      "Requirement already satisfied: tqdm<5,>=4.48.2 in c:\\users\\chinm\\appdata\\local\\programs\\python\\python39\\lib\\site-packages (from ydata-profiling) (4.66.1)\n",
      "Requirement already satisfied: visions[type_image_path]<0.7.7,>=0.7.5 in c:\\users\\chinm\\appdata\\local\\programs\\python\\python39\\lib\\site-packages (from ydata-profiling) (0.7.5)\n",
      "Requirement already satisfied: typeguard<5,>=4.1.2 in c:\\users\\chinm\\appdata\\local\\programs\\python\\python39\\lib\\site-packages (from ydata-profiling) (4.1.5)\n",
      "Requirement already satisfied: matplotlib<3.9,>=3.2 in c:\\users\\chinm\\appdata\\local\\programs\\python\\python39\\lib\\site-packages (from ydata-profiling) (3.5.1)\n",
      "Requirement already satisfied: pandas!=1.4.0,<3,>1.1 in c:\\users\\chinm\\appdata\\local\\programs\\python\\python39\\lib\\site-packages (from ydata-profiling) (1.3.5)\n",
      "Requirement already satisfied: imagehash==4.3.1 in c:\\users\\chinm\\appdata\\local\\programs\\python\\python39\\lib\\site-packages (from ydata-profiling) (4.3.1)\n",
      "Requirement already satisfied: PyYAML<6.1,>=5.0.0 in c:\\users\\chinm\\appdata\\local\\programs\\python\\python39\\lib\\site-packages (from ydata-profiling) (6.0.1)\n",
      "Requirement already satisfied: seaborn<0.13,>=0.10.1 in c:\\users\\chinm\\appdata\\local\\programs\\python\\python39\\lib\\site-packages (from ydata-profiling) (0.11.2)\n",
      "Requirement already satisfied: numpy<2,>=1.16.0 in c:\\users\\chinm\\appdata\\local\\programs\\python\\python39\\lib\\site-packages (from ydata-profiling) (1.22.4)\n",
      "Requirement already satisfied: htmlmin==0.1.12 in c:\\users\\chinm\\appdata\\local\\programs\\python\\python39\\lib\\site-packages (from ydata-profiling) (0.1.12)\n",
      "Requirement already satisfied: multimethod<2,>=1.4 in c:\\users\\chinm\\appdata\\local\\programs\\python\\python39\\lib\\site-packages (from ydata-profiling) (1.11)\n",
      "Requirement already satisfied: PyWavelets in c:\\users\\chinm\\appdata\\local\\programs\\python\\python39\\lib\\site-packages (from imagehash==4.3.1->ydata-profiling) (1.5.0)\n",
      "Requirement already satisfied: pillow in c:\\users\\chinm\\appdata\\local\\programs\\python\\python39\\lib\\site-packages (from imagehash==4.3.1->ydata-profiling) (10.2.0)\n",
      "Requirement already satisfied: MarkupSafe>=2.0 in c:\\users\\chinm\\appdata\\local\\programs\\python\\python39\\lib\\site-packages (from jinja2<3.2,>=2.11.1->ydata-profiling) (2.0.1)\n",
      "Requirement already satisfied: fonttools>=4.22.0 in c:\\users\\chinm\\appdata\\local\\programs\\python\\python39\\lib\\site-packages (from matplotlib<3.9,>=3.2->ydata-profiling) (4.28.5)\n",
      "Requirement already satisfied: cycler>=0.10 in c:\\users\\chinm\\appdata\\local\\programs\\python\\python39\\lib\\site-packages (from matplotlib<3.9,>=3.2->ydata-profiling) (0.11.0)\n",
      "Requirement already satisfied: python-dateutil>=2.7 in c:\\users\\chinm\\appdata\\local\\programs\\python\\python39\\lib\\site-packages (from matplotlib<3.9,>=3.2->ydata-profiling) (2.8.2)\n",
      "Requirement already satisfied: pyparsing>=2.2.1 in c:\\users\\chinm\\appdata\\local\\programs\\python\\python39\\lib\\site-packages (from matplotlib<3.9,>=3.2->ydata-profiling) (2.4.7)\n",
      "Requirement already satisfied: packaging>=20.0 in c:\\users\\chinm\\appdata\\local\\programs\\python\\python39\\lib\\site-packages (from matplotlib<3.9,>=3.2->ydata-profiling) (21.3)\n",
      "Requirement already satisfied: kiwisolver>=1.0.1 in c:\\users\\chinm\\appdata\\local\\programs\\python\\python39\\lib\\site-packages (from matplotlib<3.9,>=3.2->ydata-profiling) (1.3.2)\n",
      "Requirement already satisfied: llvmlite<0.42,>=0.41.0dev0 in c:\\users\\chinm\\appdata\\local\\programs\\python\\python39\\lib\\site-packages (from numba<1,>=0.56.0->ydata-profiling) (0.41.1)\n",
      "Requirement already satisfied: pytz>=2017.3 in c:\\users\\chinm\\appdata\\local\\programs\\python\\python39\\lib\\site-packages (from pandas!=1.4.0,<3,>1.1->ydata-profiling) (2021.3)\n",
      "Requirement already satisfied: joblib>=0.14.1 in c:\\users\\chinm\\appdata\\local\\programs\\python\\python39\\lib\\site-packages (from phik<0.13,>=0.11.1->ydata-profiling) (1.1.0)\n",
      "Requirement already satisfied: typing-extensions>=4.6.1 in c:\\users\\chinm\\appdata\\local\\programs\\python\\python39\\lib\\site-packages (from pydantic>=2->ydata-profiling) (4.8.0)\n",
      "Requirement already satisfied: annotated-types>=0.4.0 in c:\\users\\chinm\\appdata\\local\\programs\\python\\python39\\lib\\site-packages (from pydantic>=2->ydata-profiling) (0.6.0)\n",
      "Requirement already satisfied: pydantic-core==2.16.1 in c:\\users\\chinm\\appdata\\local\\programs\\python\\python39\\lib\\site-packages (from pydantic>=2->ydata-profiling) (2.16.1)\n",
      "Requirement already satisfied: six>=1.5 in c:\\users\\chinm\\appdata\\local\\programs\\python\\python39\\lib\\site-packages (from python-dateutil>=2.7->matplotlib<3.9,>=3.2->ydata-profiling) (1.16.0)\n",
      "Requirement already satisfied: urllib3<3,>=1.21.1 in c:\\users\\chinm\\appdata\\local\\programs\\python\\python39\\lib\\site-packages (from requests<3,>=2.24.0->ydata-profiling) (1.26.5)\n",
      "Requirement already satisfied: certifi>=2017.4.17 in c:\\users\\chinm\\appdata\\local\\programs\\python\\python39\\lib\\site-packages (from requests<3,>=2.24.0->ydata-profiling) (2021.5.30)\n",
      "Requirement already satisfied: charset-normalizer<4,>=2 in c:\\users\\chinm\\appdata\\local\\programs\\python\\python39\\lib\\site-packages (from requests<3,>=2.24.0->ydata-profiling) (3.2.0)\n",
      "Requirement already satisfied: idna<4,>=2.5 in c:\\users\\chinm\\appdata\\local\\programs\\python\\python39\\lib\\site-packages (from requests<3,>=2.24.0->ydata-profiling) (2.10)\n",
      "Requirement already satisfied: patsy>=0.5.4 in c:\\users\\chinm\\appdata\\local\\programs\\python\\python39\\lib\\site-packages (from statsmodels<1,>=0.13.2->ydata-profiling) (0.5.6)\n",
      "Requirement already satisfied: colorama in c:\\users\\chinm\\appdata\\local\\programs\\python\\python39\\lib\\site-packages (from tqdm<5,>=4.48.2->ydata-profiling) (0.4.4)\n",
      "Requirement already satisfied: importlib-metadata>=3.6 in c:\\users\\chinm\\appdata\\local\\programs\\python\\python39\\lib\\site-packages (from typeguard<5,>=4.1.2->ydata-profiling) (6.8.0)\n",
      "Requirement already satisfied: zipp>=0.5 in c:\\users\\chinm\\appdata\\local\\programs\\python\\python39\\lib\\site-packages (from importlib-metadata>=3.6->typeguard<5,>=4.1.2->ydata-profiling) (3.17.0)\n",
      "Requirement already satisfied: tangled-up-in-unicode>=0.0.4 in c:\\users\\chinm\\appdata\\local\\programs\\python\\python39\\lib\\site-packages (from visions[type_image_path]<0.7.7,>=0.7.5->ydata-profiling) (0.2.0)\n",
      "Requirement already satisfied: attrs>=19.3.0 in c:\\users\\chinm\\appdata\\local\\programs\\python\\python39\\lib\\site-packages (from visions[type_image_path]<0.7.7,>=0.7.5->ydata-profiling) (23.1.0)\n",
      "Requirement already satisfied: networkx>=2.4 in c:\\users\\chinm\\appdata\\local\\programs\\python\\python39\\lib\\site-packages (from visions[type_image_path]<0.7.7,>=0.7.5->ydata-profiling) (3.2.1)\n"
     ]
    },
    {
     "name": "stderr",
     "output_type": "stream",
     "text": [
      "WARNING: Ignoring invalid distribution -illow (c:\\users\\chinm\\appdata\\local\\programs\\python\\python39\\lib\\site-packages)\n",
      "WARNING: Ignoring invalid distribution -illow (c:\\users\\chinm\\appdata\\local\\programs\\python\\python39\\lib\\site-packages)\n",
      "WARNING: Ignoring invalid distribution -illow (c:\\users\\chinm\\appdata\\local\\programs\\python\\python39\\lib\\site-packages)\n",
      "WARNING: Ignoring invalid distribution -illow (c:\\users\\chinm\\appdata\\local\\programs\\python\\python39\\lib\\site-packages)\n",
      "WARNING: Ignoring invalid distribution -illow (c:\\users\\chinm\\appdata\\local\\programs\\python\\python39\\lib\\site-packages)\n",
      "WARNING: Ignoring invalid distribution -illow (c:\\users\\chinm\\appdata\\local\\programs\\python\\python39\\lib\\site-packages)\n",
      "WARNING: You are using pip version 21.2.3; however, version 24.0 is available.\n",
      "You should consider upgrading via the 'c:\\Users\\chinm\\AppData\\Local\\Programs\\Python\\Python39\\python.exe -m pip install --upgrade pip' command.\n"
     ]
    }
   ],
   "source": [
    "pip install --upgrade ydata-profiling\n"
   ]
  },
  {
   "cell_type": "code",
   "execution_count": 2,
   "metadata": {},
   "outputs": [
    {
     "name": "stdout",
     "output_type": "stream",
     "text": [
      "Requirement already satisfied: Pillow in c:\\users\\chinm\\appdata\\local\\programs\\python\\python39\\lib\\site-packages (10.2.0)Note: you may need to restart the kernel to use updated packages.\n"
     ]
    },
    {
     "name": "stderr",
     "output_type": "stream",
     "text": [
      "WARNING: Ignoring invalid distribution -illow (c:\\users\\chinm\\appdata\\local\\programs\\python\\python39\\lib\\site-packages)\n",
      "WARNING: Ignoring invalid distribution -illow (c:\\users\\chinm\\appdata\\local\\programs\\python\\python39\\lib\\site-packages)\n",
      "WARNING: Ignoring invalid distribution -illow (c:\\users\\chinm\\appdata\\local\\programs\\python\\python39\\lib\\site-packages)\n",
      "WARNING: Ignoring invalid distribution -illow (c:\\users\\chinm\\appdata\\local\\programs\\python\\python39\\lib\\site-packages)\n",
      "WARNING: Ignoring invalid distribution -illow (c:\\users\\chinm\\appdata\\local\\programs\\python\\python39\\lib\\site-packages)\n",
      "WARNING: Ignoring invalid distribution -illow (c:\\users\\chinm\\appdata\\local\\programs\\python\\python39\\lib\\site-packages)\n",
      "WARNING: You are using pip version 21.2.3; however, version 24.0 is available.\n",
      "You should consider upgrading via the 'c:\\Users\\chinm\\AppData\\Local\\Programs\\Python\\Python39\\python.exe -m pip install --upgrade pip' command.\n"
     ]
    },
    {
     "name": "stdout",
     "output_type": "stream",
     "text": [
      "\n"
     ]
    }
   ],
   "source": [
    "pip install --upgrade Pillow"
   ]
  },
  {
   "cell_type": "code",
   "execution_count": 8,
   "metadata": {},
   "outputs": [],
   "source": [
    "import pandas as pd\n",
    "from ydata_profiling import ProfileReport\n"
   ]
  },
  {
   "cell_type": "code",
   "execution_count": 9,
   "metadata": {},
   "outputs": [
    {
     "name": "stderr",
     "output_type": "stream",
     "text": [
      "c:\\Users\\chinm\\AppData\\Local\\Programs\\Python\\Python39\\lib\\site-packages\\IPython\\core\\interactiveshell.py:3457: DtypeWarning: Columns (3) have mixed types.Specify dtype option on import or set low_memory=False.\n",
      "  exec(code_obj, self.user_global_ns, self.user_ns)\n"
     ]
    }
   ],
   "source": [
    "data = pd.read_csv(\n",
    "    \"C:\\\\Users\\\\chinm\\\\Downloads\\\\NY_Motor_Vehicle_Collisions_-_Crashes_20240326.tsv\", sep='\\t'\n",
    ")"
   ]
  },
  {
   "cell_type": "code",
   "execution_count": 5,
   "metadata": {},
   "outputs": [],
   "source": []
  },
  {
   "cell_type": "code",
   "execution_count": 10,
   "metadata": {},
   "outputs": [],
   "source": [
    "profile = data.profile_report()"
   ]
  },
  {
   "cell_type": "code",
   "execution_count": 11,
   "metadata": {},
   "outputs": [
    {
     "data": {
      "application/vnd.jupyter.widget-view+json": {
       "model_id": "93d159355c1e47f29fe468a38872762f",
       "version_major": 2,
       "version_minor": 0
      },
      "text/plain": [
       "Summarize dataset:   0%|          | 0/5 [00:00<?, ?it/s]"
      ]
     },
     "metadata": {},
     "output_type": "display_data"
    },
    {
     "data": {
      "application/vnd.jupyter.widget-view+json": {
       "model_id": "f39111a9c7fd4de9aab56ba1d406af1b",
       "version_major": 2,
       "version_minor": 0
      },
      "text/plain": [
       "Generate report structure:   0%|          | 0/1 [00:00<?, ?it/s]"
      ]
     },
     "metadata": {},
     "output_type": "display_data"
    },
    {
     "data": {
      "application/vnd.jupyter.widget-view+json": {
       "model_id": "abe8415bb30c4400bef157a81a793768",
       "version_major": 2,
       "version_minor": 0
      },
      "text/plain": [
       "Render HTML:   0%|          | 0/1 [00:00<?, ?it/s]"
      ]
     },
     "metadata": {},
     "output_type": "display_data"
    },
    {
     "data": {
      "application/vnd.jupyter.widget-view+json": {
       "model_id": "060a3fd3046e40388b2fbbd9788e40b9",
       "version_major": 2,
       "version_minor": 0
      },
      "text/plain": [
       "Export report to file:   0%|          | 0/1 [00:00<?, ?it/s]"
      ]
     },
     "metadata": {},
     "output_type": "display_data"
    }
   ],
   "source": [
    "profile.to_file(\"C:\\\\Users\\\\chinm\\\\Desktop\\\\ChicagoProfilingCrash.html\")"
   ]
  }
 ],
 "metadata": {
  "kernelspec": {
   "display_name": "Python 3",
   "language": "python",
   "name": "python3"
  },
  "language_info": {
   "codemirror_mode": {
    "name": "ipython",
    "version": 3
   },
   "file_extension": ".py",
   "mimetype": "text/x-python",
   "name": "python",
   "nbconvert_exporter": "python",
   "pygments_lexer": "ipython3",
   "version": "3.9.7"
  }
 },
 "nbformat": 4,
 "nbformat_minor": 2
}
